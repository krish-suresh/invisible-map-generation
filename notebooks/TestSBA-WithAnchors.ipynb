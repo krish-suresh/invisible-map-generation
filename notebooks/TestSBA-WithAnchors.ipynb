{
 "cells": [
  {
   "cell_type": "code",
   "execution_count": null,
   "metadata": {},
   "outputs": [],
   "source": [
    "import g2o\n",
    "import numpy as np\n",
    "\n",
    "tag_ids = list(range(5))\n",
    "tag_size = 0.14\n",
    "\n",
    "optimizer = g2o.SparseOptimizer()\n",
    "solver = g2o.BlockSolverSE3(g2o.LinearSolverCholmodSE3())\n",
    "solver = g2o.OptimizationAlgorithmLevenberg(solver)\n",
    "optimizer.set_algorithm(solver)\n",
    "\n",
    "focal_length = 1000\n",
    "principal_point = (320, 240)\n",
    "\n",
    "# setup artificial observations of tag corners for testing\n",
    "cam = g2o.CameraParameters(focal_length, principal_point, 0)\n",
    "cam.set_id(0)\n",
    "\n",
    "optimizer.add_parameter(cam)\n",
    "\n",
    "vertex_counter = 0\n",
    "true_3d_points = np.array([[-tag_size/2,-tag_size/2,1], [tag_size/2,-tag_size/2,1], [tag_size/2,tag_size/2,1], [-tag_size/2,tag_size/2,1]])\n",
    "fixed_vertex = None\n",
    "\n",
    "for idx, tag_id in enumerate(tag_ids):\n",
    "    this_vertex_true_pose = g2o.SE3Quat(np.identity(3), [0.1*idx, 0, 0])\n",
    "    v1 = g2o.VertexSE3Expmap()\n",
    "    v1.set_id(vertex_counter)\n",
    "    vertex_counter += 1\n",
    "    v1.set_estimate(this_vertex_true_pose)\n",
    "\n",
    "    optimizer.add_vertex(v1)\n",
    "\n",
    "    if fixed_vertex is None:\n",
    "        fixed_vertex = v1\n",
    "        v1.set_fixed(True)\n",
    "        fixed_pose = this_vertex_true_pose\n",
    "    else:\n",
    "        e = g2o.EdgeSE3Expmap()\n",
    "        e.set_vertex(0, fixed_vertex)\n",
    "        e.set_vertex(1, v1)\n",
    "        relative_pose = fixed_pose.inverse()*this_vertex_true_pose\n",
    "        e.set_measurement(relative_pose)\n",
    "        e.set_information(np.identity(6))\n",
    "        optimizer.add_edge(e)\n",
    "\n",
    "    # create an anchor vertex\n",
    "    v_anchor = g2o.VertexSE3Expmap()\n",
    "    v_anchor.set_id(vertex_counter)\n",
    "    vertex_counter += 1\n",
    "    v_anchor.set_estimate(g2o.SE3Quat(np.identity(3), [0.1*idx, 0, 0]))\n",
    "    optimizer.add_vertex(v_anchor)\n",
    "\n",
    "    for corner_idx in range(4):\n",
    "        corner_vertex = g2o.VertexSBAPointXYZ()\n",
    "        corner_vertex.set_id(vertex_counter)\n",
    "        vertex_counter += 1\n",
    "        corner_vertex.set_fixed(True)\n",
    "        optimizer.add_vertex(corner_vertex)\n",
    "        corner_vertex.set_estimate(true_3d_points[corner_idx])\n",
    "        e = g2o.EdgeProjectPSI2UV()\n",
    "        e.set_vertex(0, corner_vertex)\n",
    "        e.set_vertex(1, v1)\n",
    "        e.set_vertex(2, v_anchor)\n",
    "        e.set_measurement([0.0, 0.0])\n",
    "        e.set_information(np.identity(2))\n",
    "        e.set_parameter_id(0, 0)\n",
    "        optimizer.add_edge(e)\n",
    "\n",
    "print('num vertices:', len(optimizer.vertices()))\n",
    "print('num edges:', len(optimizer.edges()))\n",
    "\n",
    "print('Performing full BA:')\n",
    "optimizer.initialize_optimization()\n",
    "optimizer.set_verbose(True)\n",
    "optimizer.optimize(1)\n",
    "print(\"ending chi2\", optimizer.chi2())"
   ]
  },
  {
   "cell_type": "code",
   "execution_count": 2,
   "metadata": {},
   "outputs": [
    {
     "data": {
      "text/plain": [
       "array([ 2.98817457e-01, -2.72254461e-04,  4.84492575e-04])"
      ]
     },
     "execution_count": 2,
     "metadata": {},
     "output_type": "execute_result"
    }
   ],
   "source": [
    "optimizer.vertices()[15].estimate().translation()"
   ]
  },
  {
   "cell_type": "code",
   "execution_count": 2,
   "metadata": {},
   "outputs": [
    {
     "name": "stdout",
     "output_type": "stream",
     "text": [
      "[[-0.07 -0.07  1.  ]\n",
      " [ 0.07 -0.07  1.  ]\n",
      " [ 0.07  0.07  1.  ]\n",
      " [-0.07  0.07  1.  ]]\n"
     ]
    }
   ],
   "source": [
    "print(true_3d_points)"
   ]
  },
  {
   "cell_type": "code",
   "execution_count": null,
   "metadata": {},
   "outputs": [],
   "source": []
  }
 ],
 "metadata": {
  "kernelspec": {
   "display_name": "Python 3",
   "language": "python",
   "name": "python3"
  },
  "language_info": {
   "codemirror_mode": {
    "name": "ipython",
    "version": 3
   },
   "file_extension": ".py",
   "mimetype": "text/x-python",
   "name": "python",
   "nbconvert_exporter": "python",
   "pygments_lexer": "ipython3",
   "version": "3.6.9"
  }
 },
 "nbformat": 4,
 "nbformat_minor": 4
}
