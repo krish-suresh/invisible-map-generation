{
 "cells": [
  {
   "cell_type": "code",
   "execution_count": null,
   "metadata": {
    "scrolled": true
   },
   "outputs": [],
   "source": [
    "%matplotlib notebook\n",
    "import json\n",
    "import convert_json\n",
    "import numpy as np\n",
    "import graph_utils\n",
    "import matplotlib.pyplot as plt\n",
    "\n",
    "# Testing code\n",
    "with open('data/round1.json', 'r') as f:\n",
    "    x = json.load(f)\n",
    "\n",
    "test_graph = convert_json.as_graph(x)\n",
    "test_graph.weights = np.array([\n",
    "    0, 0, 0, 0, 0, 0,\n",
    "    0, 0, 0, 0, 0, 0,\n",
    "    0, 0, 0, 0, 1e2, 1e2\n",
    "])\n",
    "test_graph.update_edges()\n",
    "\n",
    "# Create the g2o object and optimize\n",
    "test_graph.generate_unoptimized_graph()\n",
    "original_tags = test_graph.get_tags_all_position_estimate()\n",
    "original_map = graph_utils.optimizer_to_map(\n",
    "        test_graph.vertices, test_graph.unoptimized_graph)\n",
    "test_graph.optimize_graph()\n",
    "\n",
    "# Change vertex estimates based off the optimized graph\n",
    "test_graph.update_vertices()\n",
    "\n",
    "resulting_map = graph_utils.optimizer_to_map(\n",
    "    test_graph.vertices, test_graph.optimized_graph)\n",
    "\n",
    "original_locations = original_map['locations']\n",
    "original_tag_verts = original_map['tags']\n",
    "\n",
    "locations = resulting_map['locations']\n",
    "tag_verts = resulting_map['tags']"
   ]
  },
  {
   "cell_type": "code",
   "execution_count": null,
   "metadata": {
    "pycharm": {
     "name": "#%%\n"
    }
   },
   "outputs": [],
   "source": [
    "edges = test_graph.ordered_odometry_edges()[0]\n",
    "path = test_graph.integrate_path(edges, [\n",
    "    2.38298111e+01,  6.18518412e-01, - 2.23812237e+01,\n",
    "    -1.15648886e-02, 1.37184479e-01,  7.07669616e-01, -6.93001000e-01\n",
    "])\n",
    "\n",
    "tags = test_graph.get_tags_all_position_estimate()\n",
    "    \n",
    "f = plt.figure()\n",
    "f.add_subplot(111, projection='3d')\n",
    "plt.plot(locations[:, 0], locations[:, 1], locations[:, 2], '.', c='b', label='Odom Vertices')\n",
    "plt.plot(tag_verts[:, 0], tag_verts[:, 1], tag_verts[:, 2], 'o', c='r', label='Tag Vertices')\n",
    "plt.plot(tags[:, 0], tags[:, 1], tags[:, 2], '.', c='g', label='All Tag Edges')\n",
    "plt.plot(original_locations[:, 0], original_locations[:, 1], original_locations[:, 2], '.', c='k', label='Original Odom Vertices')\n",
    "plt.plot(original_tag_verts[:, 0], original_tag_verts[:, 1], original_tag_verts[:, 2], 'o', c='m', label='Original Tag Vertices')\n",
    "plt.plot(original_tags[:, 0], original_tags[:, 1], original_tags[:, 2], '.', c='c', label='All Tag Edges')\n",
    "plt.legend()\n",
    "plt.savefig('optimized.png')\n",
    "plt.show()"
   ]
  }
 ],
 "metadata": {
  "kernelspec": {
   "display_name": "Python 3",
   "language": "python",
   "name": "python3"
  },
  "language_info": {
   "codemirror_mode": {
    "name": "ipython",
    "version": 3
   },
   "file_extension": ".py",
   "mimetype": "text/x-python",
   "name": "python",
   "nbconvert_exporter": "python",
   "pygments_lexer": "ipython3",
   "version": "3.6.9"
  }
 },
 "nbformat": 4,
 "nbformat_minor": 4
}